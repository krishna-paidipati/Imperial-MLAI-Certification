{
 "cells": [
  {
   "cell_type": "markdown",
   "metadata": {},
   "source": [
    "#### Tips for Using Jupyter Notebook\n",
    "\n",
    "- To change the cell type (after exiting the cell using `Shift + Enter`):\n",
    "  - **Markdown cell**: Press `M`\n",
    "  - **Code cell**: Press `Y`\n",
    "- To manage cells:\n",
    "  - **Insert cell above**: Press `A`\n",
    "  - **Insert cell below**: Press `B`\n",
    "  - **Delete a cell**: Press `D` twice (`DD`)\n",
    "- Creating headers in a Markdown cell:\n",
    "  - `#` for Header 1\n",
    "  - `##` for Header 2\n",
    "  - `###` for Header 3\n",
    "- To make text bold in Markdown, wrap it with double asterisks: `**bold text**`\n",
    "- In a code cell, use `#` to write comments about the code"
   ]
  },
  {
   "cell_type": "markdown",
   "metadata": {},
   "source": []
  },
  {
   "cell_type": "markdown",
   "metadata": {},
   "source": []
  }
 ],
 "metadata": {
  "language_info": {
   "name": "python"
  }
 },
 "nbformat": 4,
 "nbformat_minor": 2
}
